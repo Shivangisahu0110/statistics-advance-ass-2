{
 "cells": [
  {
   "cell_type": "markdown",
   "id": "f774c4db-406c-40c3-bd6e-6096bf6ad768",
   "metadata": {},
   "source": [
    "Q1: What are the Probability Mass Function (PMF) and Probability Density Function (PDF)? Explain with\n",
    "an example."
   ]
  },
  {
   "cell_type": "markdown",
   "id": "b81f25cc-aadb-4bd5-b272-7a75c64a90cc",
   "metadata": {},
   "source": [
    "Probability Mass Function (PMF):\n",
    "\n",
    "The PMF is applicable to discrete random variables, which take on distinct values.\n",
    "It gives the probability of each possible outcome.\n",
    "Mathematically, for a discrete random variable X, the PMF is defined as P(X = x), where x is a specific value that X can take.\n",
    "\n",
    "Example:\n",
    "Consider a six-sided fair die. The PMF for rolling the die can be expressed as:\n",
    "P(X = 1) = 1/6\n",
    "P(X = 2) = 1/6\n",
    "P(X = 3) = 1/6\n",
    "P(X = 4) = 1/6\n",
    "P(X = 5) = 1/6\n",
    "P(X = 6) = 1/6\n",
    "\n",
    "Here, the PMF assigns equal probabilities to each possible outcome.\n",
    "\n",
    "Probability Density Function (PDF):\n",
    "\n",
    "The PDF is used for continuous random variables, where the set of possible outcomes is an entire range of values.\n",
    "Unlike the PMF, the PDF itself doesn't give the probability of a specific outcome; rather, it gives the probability density at a particular point.\n",
    "The probability of a continuous random variable falling within a certain interval is given by the area under the PDF curve over that interval.\n",
    "\n",
    "Example:\n",
    "Consider a standard normal distribution with mean 0 and standard deviation 1. The PDF for this distribution is the bell-shaped curve known as the standard normal curve. The probability of a value falling within a specific range is given by the area under the curve in that range."
   ]
  },
  {
   "cell_type": "markdown",
   "id": "1e5a6d2c-32fb-4a26-882a-3a320645cdfb",
   "metadata": {},
   "source": [
    "Q2: What is Cumulative Density Function (CDF)? Explain with an example. Why CDF is used?"
   ]
  },
  {
   "cell_type": "markdown",
   "id": "db34c750-6371-423e-af60-adbc759f4dac",
   "metadata": {},
   "source": [
    "The Cumulative Distribution Function (CDF) is a concept used in probability theory and statistics to describe the probability that a random variable takes on a value less than or equal to a given point. It is a way to track the cumulative probability as we move along the range of possible values of a random variable.\n",
    "\n",
    "Mathematically, for a random variable X, the CDF is denoted as F(x), and it is defined as:\n",
    "\n",
    "F(x)=P(X<=x)\n",
    "\n",
    "EXAMPLE: Toss a coin twice. Let X be the number of observed heads. Find the CDF of X\n",
    "\n",
    "Note that here X∼Binomial(2,12) The range of X is RX={0,1,2) and its PMF is given by\n",
    "PX(0)=P(X=0)=14,\n",
    "PX(1)=P(X=1)=12,\n",
    "PX(2)=P(X=2)=14.\n",
    "\n",
    "First, note that if x<0, then  FX(x)=P(X≤x)=0, for x<0.\n",
    "\n",
    "Next, if x≥2, FX(x)=P(X≤x)=1, for x≥2.\n",
    "\n",
    "Next, if 0≤x<1, FX(x)=P(X≤x)=P(X=0)=14, for 0≤x<1.\n",
    "\n",
    "Finally, if 1≤x<2, FX(x)=P(X≤x)=P(X=0)+P(X=1)=14+12=34, for 1≤x<2.\n",
    "\n",
    "Why CDF is used:\n",
    "\n",
    "Comprehensive Description: The CDF provides a comprehensive description of the distribution of a random variable. It gives the probability of observing values up to a certain point, capturing the entire range of possible outcomes.\n",
    "\n",
    "Calculation of Probabilities: The CDF allows for the easy calculation of probabilities associated with specific intervals. For example, (a<X≤b) can be calculated as \n",
    "F(b)−F(a).\n",
    "\n",
    "Visual Representation: Plotting the CDF can provide a visual representation of the distribution of the random variable, making it easier to understand the probabilities associated with different values."
   ]
  },
  {
   "cell_type": "markdown",
   "id": "7e14fd77-9903-4d8e-bf5b-7767d5f45a5f",
   "metadata": {},
   "source": [
    "Q3: What are some examples of situations where the normal distribution might be used as a model?\n",
    "Explain how the parameters of the normal distribution relate to the shape of the distribution."
   ]
  },
  {
   "cell_type": "markdown",
   "id": "067ca795-af4f-483e-a788-abfff3640b39",
   "metadata": {},
   "source": [
    "Biological Measurements:\n",
    "Human height, weight, and other physical attributes often follow a normal distribution. For example, the distribution of adult human heights in a population tends to be approximately normal.\n",
    "\n",
    "Test Scores:\n",
    "In educational testing, scores on standardized tests like the SAT or IQ tests often exhibit a normal distribution.\n",
    "\n",
    "Financial Markets:\n",
    "Daily stock price changes are often modeled using a normal distribution. This assumption is foundational in financial models such as the Black-Scholes option pricing model.\n",
    "\n",
    "Measurement Errors:\n",
    "Experimental errors and measurement uncertainties in scientific experiments are often assumed to follow a normal distribution.\n",
    "\n",
    "IQ Scores:\n",
    "IQ scores are designed to follow a normal distribution, with the mean set to 100 and a standard deviation of 15.\n",
    "\n",
    "Biometric Data:\n",
    "Various biometric measurements, such as blood pressure, cholesterol levels, and heart rate, are often modeled using the normal distribution."
   ]
  },
  {
   "cell_type": "markdown",
   "id": "4d85b943-8b43-4eae-8c8c-479a316be36a",
   "metadata": {},
   "source": [
    "Parameters of the normal distribution relate to the shape of the distribution:\n",
    " \n",
    " The normal distribution is defined by two parameters: the mean (μ) and the standard deviation (σ). The mean determines the center of the distribution, while the standard deviation determines the spread or width of the distribution."
   ]
  },
  {
   "cell_type": "raw",
   "id": "c8b17127-4d56-4f36-9668-c2db38e97ec8",
   "metadata": {},
   "source": [
    "Q4: Explain the importance of Normal Distribution. Give a few real-life examples of Normal\n",
    "Distribution."
   ]
  },
  {
   "cell_type": "markdown",
   "id": "bf8d7bdf-d2ad-46ed-ab77-bf4ddf658a33",
   "metadata": {},
   "source": [
    "Central Limit Theorem:\n",
    "\n",
    "One of the most crucial properties of the normal distribution is its connection to the Central Limit Theorem (CLT). The CLT states that the sum (or average) of a large number of independent and identically distributed random variables, regardless of the original distribution, will be approximately normally distributed. This makes the normal distribution a fundamental concept in statistical inference.\n",
    "\n",
    "Statistical Inference:\n",
    "\n",
    "Many statistical methods and hypothesis tests are based on the assumption that the data follows a normal distribution. This simplifies the analysis and allows for the use of powerful statistical tools.\n",
    "\n",
    "Parameter Estimation:\n",
    "\n",
    "In various statistical models, the normal distribution is often used for parameter estimation. Methods like maximum likelihood estimation (MLE) are particularly convenient when the underlying distribution is assumed to be normal.\n",
    "\n",
    "Prediction and Modeling:\n",
    "\n",
    "The normal distribution is frequently used in predictive modeling and simulation studies. Many natural processes exhibit behavior that can be well-described by a normal distribution, making it a useful tool for forecasting and decision-making.\n",
    "\n",
    "Risk Management:\n",
    "\n",
    "In finance, risk management models often assume that asset returns follow a normal distribution. This assumption is crucial for estimating the likelihood of extreme events and determining risk levels in investment portfolios.\n",
    "\n",
    "Quality Control:\n",
    "\n",
    "In manufacturing and quality control, the normal distribution is often used to model variations in product specifications and tolerances. This allows for the identification of defective products and the establishment of quality control limits.\n",
    "\n",
    "Biostatistics and Medicine:\n",
    "\n",
    "Many biological measurements, such as blood pressure, cholesterol levels, and body mass index (BMI), tend to follow a normal distribution. This is important in medical research and healthcare for understanding population health and making clinical decisions.\n",
    "\n",
    "\n",
    "Real-life examples of normal distribution in various fields include:\n",
    "\n",
    "Height Distribution: Human height in a population often follows a normal distribution.\n",
    "\n",
    "IQ Scores: IQ scores are designed to follow a normal distribution, with a mean of 100 and a standard deviation of 15.\n",
    "\n",
    "Exam Scores: Scores on standardized exams, such as the SAT or GRE, are often modeled using a normal distribution.\n",
    "\n",
    "Temperature Distribution: Daily temperatures in a particular location over a long period may exhibit a normal distribution.\n",
    "\n",
    "Financial Returns: Daily returns on financial assets are often assumed to follow a normal distribution in financial modeling."
   ]
  },
  {
   "cell_type": "markdown",
   "id": "ff73b9f0-484c-4c75-94cb-7cfab241f9e6",
   "metadata": {},
   "source": [
    "Q5: What is Bernaulli Distribution? Give an Example. What is the difference between Bernoulli\n",
    "Distribution and Binomial Distribution?"
   ]
  },
  {
   "cell_type": "markdown",
   "id": "cbafb90c-2a16-4f88-a1c2-d33d6740947d",
   "metadata": {},
   "source": [
    "The Bernoulli distribution is a discrete probability distribution that models a random experiment with only two possible outcomes, often referred to as \"success\" and \"failure.\" It is named after the Swiss mathematician Jacob Bernoulli. The random variable in a Bernoulli distribution, denoted as X, takes the value 1 for success and 0 for failure.\n",
    "\n",
    "**Example:**\n",
    "Consider flipping a fair coin. Let X be the random variable representing the outcome of the coin flip, where X = 1 represents getting heads (success), and X = 0 represents getting tails (failure). The probability of getting heads (p) is 0.5, and the probability of getting tails (1-p) is also 0.5. This scenario can be modeled using a Bernoulli distribution.\n",
    "\n",
    "Difference between Bernoulli Distribution and Binomial Distribution:\n",
    "\n",
    "1  Number of Trials: \n",
    "\n",
    "Bernoulli Distribution: Describes a single trial with two possible outcomes.\n",
    "  \n",
    "Binomial Distribution: Describes the number of successes in a fixed number of independent Bernoulli trials.\n",
    "\n",
    "2  Parameters\n",
    "\n",
    "Bernoulli Distribution: Parameterized by p, the probability of success on a single trial.\n",
    "\n",
    "Binomial Distribution: Parameterized by n (number of trials) and p (probability of success on a single trial).\n",
    "\n",
    "3  Random Variable:\n",
    "\n",
    "Bernoulli Distribution: The random variable X takes values 0 or 1.\n",
    "\n",
    "Binomial Distribution: The random variable X represents the number of successes in n trials, taking values from 0 to n."
   ]
  },
  {
   "cell_type": "markdown",
   "id": "464ba8b7-1402-4b1c-84f3-0a5d3f357ec5",
   "metadata": {},
   "source": [
    "Q6. Consider a dataset with a mean of 50 and a standard deviation of 10. If we assume that the dataset\n",
    "is normally distributed, what is the probability that a randomly selected observation will be greater\n",
    "than 60? Use the appropriate formula and show your calculations."
   ]
  },
  {
   "cell_type": "markdown",
   "id": "81660ccb-5418-4938-b2ed-e91b506f35f6",
   "metadata": {},
   "source": [
    "The formula for the Z-score (Z) is given by:\n",
    "\n",
    "    Z= (X−μ)/σ\n",
    "\n",
    "where:\n",
    "\n",
    "X is the value in the dataset (in this case, 60),\n",
    "\n",
    "μ is the mean of the dataset,\n",
    "\n",
    "σ is the standard deviation of the dataset.\n",
    "\n",
    "In this case:\n",
    "\n",
    "Z= (60−50)/10\n",
    "\n",
    "Z=1"
   ]
  },
  {
   "cell_type": "markdown",
   "id": "18c4a093-249a-42f1-8db9-96879e2b37ba",
   "metadata": {},
   "source": [
    "Q7: Explain uniform Distribution with an example."
   ]
  },
  {
   "cell_type": "markdown",
   "id": "cc212d75-43b4-4a7b-b1e5-2b44a80e6890",
   "metadata": {},
   "source": [
    "\n",
    "The uniform distribution is a probability distribution where all outcomes are equally likely over a specified range. In other words, each value in the range has an equal probability of occurring. The probability density function (PDF) of a uniform distribution is constant within the range and zero outside the range.\n",
    "\n",
    "The probability density function (PDF) of a continuous uniform distribution on the interval [a,b] is given by:\n",
    "\n",
    "f(x)= 1/b−a\n",
    "\n",
    "where:\n",
    "\n",
    "a is the lower bound of the interval,\n",
    "\n",
    "b is the upper bound of the interval,\n",
    "\n",
    "f(x) is the probability density function.\n",
    "\n",
    "EXAMPLE:\n",
    "\n",
    "Suppose we have a random variable X representing the outcome of rolling a fair six-sided die. The possible outcomes are integers from 1 to 6, and each outcome is equally likely.\n",
    "\n",
    "In this case:\n",
    "\n",
    "a= 1 (lower bound of the interval),\n",
    "\n",
    "b=6 (upper bound of the interval).\n",
    "\n",
    "The probability density function for this uniform distribution is:\n",
    "\n",
    "f(x) = 1/6−1 = 5\n",
    "Now, if we want to find the probability of rolling a specific number, say 3, the probability would be:\n",
    "\n",
    "\n",
    "P(X=3)= 1/5\n",
    "\n",
    "Similarly, the probability of rolling any other specific number within the range 1 to 6 would also be 1/5 , as each outcome is equally likely."
   ]
  },
  {
   "cell_type": "markdown",
   "id": "2ec822de-0859-4331-a128-3f92f5695201",
   "metadata": {},
   "source": [
    "Q8: What is the z score? State the importance of the z score."
   ]
  },
  {
   "cell_type": "markdown",
   "id": "4978925f-dec5-43db-befb-39c45b104a6a",
   "metadata": {},
   "source": [
    "The Z-score, also known as the standard score, is a statistical measure that quantifies the number of standard deviations a data point is from the mean of a dataset. It is a dimensionless value and is expressed in terms of standard deviations.\n",
    "\n",
    "The formula for calculating the Z-score for an individual data point \n",
    "X in a dataset with mean μ and standard deviation σ is given by:\n",
    "\n",
    "Z= (X−μ)/σ\n",
    "\n",
    "\n",
    "\n",
    "Importance of Z-score:\n",
    "\n",
    "Standardization:\n",
    "\n",
    "Z-scores standardize data, allowing for the comparison of scores from different distributions. This is particularly useful in fields like psychology, education, and finance, where different scales and units may be used.\n",
    "\n",
    "Identification of Outliers:\n",
    "\n",
    "Z-scores help identify outliers in a dataset. Data points with Z-scores significantly higher or lower than the mean may be considered outliers, potentially indicating unusual or unexpected observations.\n",
    "\n",
    "Probability Estimation:\n",
    "\n",
    "Z-scores are used in probability theory. By converting raw scores to Z-scores, one can determine the probability of a score occurring within a standard normal distribution.\n",
    "\n",
    "Quality Control:\n",
    "\n",
    "In manufacturing and quality control, Z-scores are used to assess how far a particular measurement is from the mean of a distribution, helping to identify defects or variations.\n",
    "\n",
    "Risk Assessment in Finance:\n",
    "\n",
    "Z-scores are used in finance to assess the financial health and risk of a company. A company's financial ratios can be converted into Z-scores to determine its position relative to the mean and standard deviation of a reference group.\n",
    "\n",
    "Standardized Testing:\n",
    "\n",
    "In educational testing, Z-scores are often used to compare a student's performance to the average performance of a group. This allows for a better understanding of how an individual's score compares to the overall performance.\n",
    "\n",
    "Data Analysis and Interpretation:\n",
    "\n",
    "Z-scores facilitate the interpretation of data by providing a standardized measure of a data point's relative position within a dataset. This is particularly valuable when dealing with data with different units and scales."
   ]
  },
  {
   "cell_type": "markdown",
   "id": "f1267a01-1d31-49c7-aefb-3a03aefa78dc",
   "metadata": {},
   "source": [
    "Q9: What is Central Limit Theorem? State the significance of the Central Limit Theorem."
   ]
  },
  {
   "cell_type": "markdown",
   "id": "43098e0a-4790-4d70-9047-6000778c595c",
   "metadata": {},
   "source": [
    "The Central Limit Theorem (CLT) is a fundamental concept in statistics that describes the distribution of sample means drawn from a population, regardless of the shape of the original population distribution. It is particularly important when dealing with large sample sizes. The Central Limit Theorem states that, under certain conditions, the distribution of the sample mean will be approximately normally distributed, regardless of the shape of the population distribution.\n",
    "\n",
    "Significance of the Central Limit Theorem:\n",
    "\n",
    "Approximate Normality:\n",
    "\n",
    "The Central Limit Theorem allows researchers and statisticians to assume that the distribution of the sample mean is approximately normal, regardless of the shape of the original population distribution. This is especially useful for making statistical inferences.\n",
    "\n",
    "Statistical Inference:\n",
    "\n",
    "The Central Limit Theorem is a foundation for many statistical inference techniques. It enables the use of normal distribution-based methods for hypothesis testing, confidence intervals, and other statistical analyses, even when dealing with non-normally distributed populations.\n",
    "\n",
    "Sampling Distributions:\n",
    "\n",
    "It provides a basis for understanding the properties of sampling distributions. The distribution of the sample mean becomes tighter and more normal as the sample size increases, leading to more accurate statistical inferences.\n",
    "\n",
    "Population Shape Irrelevance:\n",
    "\n",
    "The CLT allows statisticians to work with sample means regardless of the shape of the population distribution. This is particularly important in practice, as many real-world populations do not follow a normal distribution.\n",
    "\n",
    "Simplifies Analysis:\n",
    "\n",
    "The Central Limit Theorem simplifies the analysis of complex datasets. Instead of dealing with the distribution of the original data, analysts can often work with the distribution of sample means, which is more manageable.\n",
    "\n",
    "Foundation for Hypothesis Testing:\n",
    "\n",
    "The normality assumption provided by the CLT is foundational for many hypothesis tests. It enables the use of critical values and p-values based on the normal distribution, simplifying the testing process."
   ]
  },
  {
   "cell_type": "markdown",
   "id": "e676da8c-95c2-4805-87fa-0bce0a442d12",
   "metadata": {},
   "source": [
    "Q10: State the assumptions of the Central Limit Theorem."
   ]
  },
  {
   "cell_type": "markdown",
   "id": "363294c6-374d-4d65-a434-988d9c13d086",
   "metadata": {},
   "source": [
    "Independence:\n",
    "\n",
    "The random variables in the sample must be independent of each other. In other words, the outcome of one observation should not influence the outcome of another observation.\n",
    "\n",
    "Sample Size:\n",
    "\n",
    "The sample size should be sufficiently large. While there is no strict rule for what constitutes \"sufficiently large,\" a common guideline is that the sample size should be large enough for the distribution of the sample mean to be approximately normal, even if the underlying population distribution is not normal. A sample size of 30 or greater is often considered a reasonable threshold, but this can vary depending on the degree of skewness or other characteristics of the population distribution.\n",
    "\n",
    "Population Distribution (for Finite Variances):\n",
    "\n",
    "If the population has a finite variance, the shape of the population distribution is not critical. The Central Limit Theorem holds for any population distribution, whether it is symmetric or skewed, as long as the variance is finite.\n",
    "\n",
    "Population Distribution (for Infinite Variances):\n",
    "\n",
    "If the population has an infinite variance (i.e., the variance is undefined or infinite), the Central Limit Theorem may still apply, but additional conditions, such as the existence of higher moments, may be necessary.\n",
    "\n",
    "Identically Distributed Random Variables:\n",
    "\n",
    "The random variables in the sample should be identically distributed. This means that they come from the same population and follow the same probability distribution."
   ]
  },
  {
   "cell_type": "code",
   "execution_count": null,
   "id": "f83eaa9c-f185-45bb-a4ac-35c2d714fb9c",
   "metadata": {},
   "outputs": [],
   "source": []
  }
 ],
 "metadata": {
  "kernelspec": {
   "display_name": "Python 3 (ipykernel)",
   "language": "python",
   "name": "python3"
  },
  "language_info": {
   "codemirror_mode": {
    "name": "ipython",
    "version": 3
   },
   "file_extension": ".py",
   "mimetype": "text/x-python",
   "name": "python",
   "nbconvert_exporter": "python",
   "pygments_lexer": "ipython3",
   "version": "3.10.8"
  }
 },
 "nbformat": 4,
 "nbformat_minor": 5
}
